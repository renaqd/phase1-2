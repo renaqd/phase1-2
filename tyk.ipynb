{
 "cells": [
  {
   "cell_type": "code",
   "execution_count": 1,
   "id": "e8962bbe",
   "metadata": {},
   "outputs": [
    {
     "name": "stdout",
     "output_type": "stream",
     "text": [
      "I value automation\n",
      "I value computers\n",
      "I value health\n",
      "I value quality\n",
      "I value resourcefulness\n",
      "Phase 1: UNLOCKED\n",
      "I want to be a hero\n",
      "I want to be a scientist\n",
      "Phase 2: In progress\n"
     ]
    }
   ],
   "source": [
    "# phase1 function checks the matching of interests and skills to validate phase 1\n",
    "\n",
    "def phase1(skills):\n",
    "    for i,s in enumerate(skills):\n",
    "        print(\"I value\", s)\n",
    "interests = ['automation','quality','computers','resourcefulness','health']\n",
    "interests = sorted(interests)\n",
    "skills = ['automation','quality','computers','resourcefulness','health']\n",
    "skills = sorted(skills)\n",
    "phase1(skills)\n",
    "\n",
    "if interests == skills:\n",
    "    print(\"Phase 1: UNLOCKED\")\n",
    "else:\n",
    "    print(\"Keep searching for what you like to do.\")\n",
    "\n",
    "# phase2 function checks the matching of goals and me to validate phase 2\n",
    "\n",
    "def phase2(goals):\n",
    "    for i,g in enumerate(goals):\n",
    "        print(\"I want to be a\", g)\n",
    "goals = ['hero','scientist']\n",
    "me = ['student']\n",
    "phase2(goals)\n",
    "\n",
    "if goals == me:\n",
    "    print(\"Phase 2: Complete\")\n",
    "else:\n",
    "    print(\"Phase 2: In progress\")"
   ]
  },
  {
   "cell_type": "code",
   "execution_count": 2,
   "id": "bc521558",
   "metadata": {},
   "outputs": [
    {
     "name": "stdout",
     "output_type": "stream",
     "text": [
      "T\n",
      "H\n",
      "A\n",
      "N\n",
      "K\n",
      " \n",
      "Y\n",
      "O\n",
      "U\n",
      " \n",
      "K\n",
      "I\n",
      "N\n",
      "G\n",
      "!\n"
     ]
    }
   ],
   "source": [
    "for letter in \"THANK YOU KING!\":\n",
    "    print(letter)"
   ]
  }
 ],
 "metadata": {
  "kernelspec": {
   "display_name": "Python 3 (ipykernel)",
   "language": "python",
   "name": "python3"
  },
  "language_info": {
   "codemirror_mode": {
    "name": "ipython",
    "version": 3
   },
   "file_extension": ".py",
   "mimetype": "text/x-python",
   "name": "python",
   "nbconvert_exporter": "python",
   "pygments_lexer": "ipython3",
   "version": "3.10.8"
  }
 },
 "nbformat": 4,
 "nbformat_minor": 5
}
